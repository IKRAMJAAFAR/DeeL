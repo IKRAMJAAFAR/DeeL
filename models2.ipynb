{
 "cells": [
  {
   "cell_type": "code",
   "execution_count": 7,
   "metadata": {},
   "outputs": [],
   "source": [
    "import numpy as np\n",
    "import pandas as pd\n",
    "from sklearn.model_selection import train_test_split\n",
    "from sklearn.preprocessing import MinMaxScaler\n",
    "from tensorflow.keras.models import Sequential\n",
    "from tensorflow.keras.layers import LSTM, Dense, RepeatVector, TimeDistributed, ConvLSTM2D, Flatten\n",
    "from sklearn.svm import OneClassSVM\n",
    "from statsmodels.tsa.seasonal import seasonal_decompose"
   ]
  },
  {
   "cell_type": "code",
   "execution_count": 3,
   "metadata": {},
   "outputs": [],
   "source": [
    "# Load filtered data\n",
    "# train_df = pd.read_csv('https://raw.githubusercontent.com/IKRAMJAAFAR/DeeL/main/Filtered/filtered_training_scaled.csv')\n",
    "# valid_df = pd.read_csv('https://raw.githubusercontent.com/IKRAMJAAFAR/DeeL/main/Filtered/filtered_validation_scaled.csv')\n",
    "# test_df = pd.read_csv('https://raw.githubusercontent.com/IKRAMJAAFAR/DeeL/main/Filtered/filtered_testing_scaled.csv')\n",
    "\n",
    "# Load unfiltered data\n",
    "train_df = pd.read_csv('https://raw.githubusercontent.com/IKRAMJAAFAR/DeeL/main/unfiltered/unfiltered_training_scaled.csv')\n",
    "valid_df = pd.read_csv('https://raw.githubusercontent.com/IKRAMJAAFAR/DeeL/main/unfiltered/unfiltered_validation_scaled.csv')\n",
    "test_df = pd.read_csv('https://raw.githubusercontent.com/IKRAMJAAFAR/DeeL/main/unfiltered/unfiltered_testing_scaled.csv')"
   ]
  },
  {
   "cell_type": "code",
   "execution_count": 4,
   "metadata": {},
   "outputs": [],
   "source": [
    "scaler = MinMaxScaler()\n",
    "train_scaled = scaler.fit_transform(train_df[['value']])\n",
    "valid_scaled = scaler.transform(valid_df[['value']])\n",
    "test_scaled = scaler.transform(test_df[['value']])"
   ]
  },
  {
   "cell_type": "code",
   "execution_count": 5,
   "metadata": {},
   "outputs": [],
   "source": [
    "sequence_length = 30\n",
    "\n",
    "def create_sequences(data, sequence_length):\n",
    "    X, y = [], []\n",
    "    for i in range(len(data) - sequence_length):\n",
    "        X.append(data[i:i+sequence_length, 0])\n",
    "        y.append(data[i+sequence_length, 0])\n",
    "    return np.array(X), np.array(y)\n",
    "\n",
    "X_train, y_train = create_sequences(train_scaled, sequence_length)\n",
    "X_valid, y_valid = create_sequences(valid_scaled, sequence_length)\n",
    "X_test, y_test = create_sequences(test_scaled, sequence_length)\n",
    "\n",
    "X_train = X_train.reshape((X_train.shape[0], X_train.shape[1], 1))\n",
    "X_valid = X_valid.reshape((X_valid.shape[0], X_valid.shape[1], 1))\n",
    "X_test = X_test.reshape((X_test.shape[0], X_test.shape[1], 1))"
   ]
  },
  {
   "cell_type": "code",
   "execution_count": 9,
   "metadata": {},
   "outputs": [
    {
     "name": "stdout",
     "output_type": "stream",
     "text": [
      "LSTM MSE: 0.215553\n",
      "LSTM Normalized Anomaly Score: 7595.00%\n"
     ]
    }
   ],
   "source": [
    "# Model 1: LSTM\n",
    "model = Sequential()\n",
    "model.add(LSTM(50, activation='relu', input_shape=(X_train.shape[1], X_train.shape[2])))\n",
    "model.add(Dense(1))\n",
    "model.compile(optimizer='adam', loss='mse')\n",
    "\n",
    "history = model.fit(X_train, y_train, epochs=10, batch_size=64, validation_data=(X_valid, y_valid), verbose=0)\n",
    "\n",
    "predictions = model.predict(X_test, verbose=0)\n",
    "errors = np.abs(predictions - y_test)\n",
    "mse_lstm = np.mean(errors)\n",
    "threshold = np.percentile(errors, 95)\n",
    "anomalies_lstm = errors > threshold\n",
    "normalized_lstm_score = (np.sum(anomalies_lstm) / len(errors)) * 100\n",
    "\n",
    "# Print Results for LSTM\n",
    "print(f\"LSTM MSE: {mse_lstm:.6f}\")\n",
    "print(f\"LSTM Normalized Anomaly Score: {normalized_lstm_score:.2f}%\")"
   ]
  },
  {
   "cell_type": "code",
   "execution_count": 6,
   "metadata": {},
   "outputs": [
    {
     "name": "stdout",
     "output_type": "stream",
     "text": [
      "Autoencoder Anomalies: 76\n"
     ]
    }
   ],
   "source": [
    "# Model 2: Autoencoder\n",
    "model = Sequential()\n",
    "model.add(LSTM(64, activation='relu', input_shape=(X_train.shape[1], 1), return_sequences=False))\n",
    "model.add(RepeatVector(X_train.shape[1]))\n",
    "model.add(LSTM(64, activation='relu', return_sequences=True))\n",
    "model.add(TimeDistributed(Dense(1)))\n",
    "\n",
    "model.compile(optimizer='adam', loss='mse')\n",
    "history = model.fit(X_train, X_train, epochs=10, batch_size=64, validation_data=(X_valid, X_valid), verbose=0)\n",
    "\n",
    "reconstruction = model.predict(X_test, verbose=0)\n",
    "reconstruction_error = np.mean(np.abs(reconstruction - X_test), axis=1)\n",
    "threshold = np.percentile(reconstruction_error, 95)\n",
    "anomalies_autoencoder = reconstruction_error > threshold\n",
    "\n",
    "# Print Results for Autoencoder\n",
    "print(f\"Autoencoder Anomalies: {np.sum(anomalies_autoencoder)}\")"
   ]
  },
  {
   "cell_type": "code",
   "execution_count": 7,
   "metadata": {},
   "outputs": [
    {
     "name": "stdout",
     "output_type": "stream",
     "text": [
      "ConvLSTM Anomalies: 76\n"
     ]
    }
   ],
   "source": [
    "# Model 3: ConvLSTM\n",
    "X_train_reshaped = X_train.reshape((X_train.shape[0], sequence_length, 1, 1, 1))\n",
    "X_valid_reshaped = X_valid.reshape((X_valid.shape[0], sequence_length, 1, 1, 1))\n",
    "X_test_reshaped = X_test.reshape((X_test.shape[0], sequence_length, 1, 1, 1))\n",
    "\n",
    "model = Sequential()\n",
    "model.add(ConvLSTM2D(64, (3, 3), padding='same', input_shape=(sequence_length, 1, 1, 1), return_sequences=True))\n",
    "model.add(ConvLSTM2D(64, (3, 3), padding='same', return_sequences=False))\n",
    "model.add(Flatten())\n",
    "model.add(Dense(1))\n",
    "model.compile(optimizer='adam', loss='mse')\n",
    "\n",
    "model.fit(X_train_reshaped, X_train[:, -1], epochs=10, batch_size=64, validation_data=(X_valid_reshaped, X_valid[:, -1]), verbose=0)\n",
    "\n",
    "predictions = model.predict(X_test_reshaped, verbose=0)\n",
    "error = np.mean(np.abs(X_test_reshaped[:, :, 0, 0, 0] - predictions), axis=1)\n",
    "threshold = np.percentile(error, 95)\n",
    "anomalies_convlstm = error > threshold\n",
    "\n",
    "# Print Results for ConvLSTM\n",
    "print(f\"ConvLSTM Anomalies: {np.sum(anomalies_convlstm)}\")"
   ]
  },
  {
   "cell_type": "code",
   "execution_count": 8,
   "metadata": {},
   "outputs": [
    {
     "name": "stdout",
     "output_type": "stream",
     "text": [
      "One-Class SVM Anomalies: 314\n"
     ]
    }
   ],
   "source": [
    "# Model 4: One-Class SVM\n",
    "X_train_flat = X_train.reshape((X_train.shape[0], -1))\n",
    "X_valid_flat = X_valid.reshape((X_valid.shape[0], -1))\n",
    "X_test_flat = X_test.reshape((X_test.shape[0], -1))\n",
    "\n",
    "svm = OneClassSVM(nu=0.05, kernel='rbf', gamma=0.1)\n",
    "svm.fit(X_train_flat)\n",
    "predictions = svm.predict(X_test_flat)\n",
    "anomalies_svm = predictions == -1\n",
    "\n",
    "# Print Results for One-Class SVM\n",
    "print(f\"One-Class SVM Anomalies: {np.sum(anomalies_svm)}\")"
   ]
  },
  {
   "cell_type": "code",
   "execution_count": 9,
   "metadata": {},
   "outputs": [
    {
     "name": "stdout",
     "output_type": "stream",
     "text": [
      "Seasonal Decomposition Anomalies: 76\n"
     ]
    }
   ],
   "source": [
    "# Model 5: Seasonal Decomposition\n",
    "series = test_df['value']\n",
    "decomposition = seasonal_decompose(series, model='additive', period=sequence_length)\n",
    "residual = decomposition.resid.dropna()\n",
    "threshold = np.percentile(np.abs(residual), 95)\n",
    "anomalies_seasonal = np.abs(residual) > threshold\n",
    "\n",
    "# Print Results for Seasonal Decomposition\n",
    "print(f\"Seasonal Decomposition Anomalies: {np.sum(anomalies_seasonal)}\")"
   ]
  },
  {
   "cell_type": "code",
   "execution_count": 10,
   "metadata": {},
   "outputs": [
    {
     "name": "stdout",
     "output_type": "stream",
     "text": [
      "LSTM MSE: 0.218000\n",
      "LSTM Anomaly Score: 7594.9967083607635 anomalies (500.00%)\n",
      "Autoencoder Anomalies: 76 anomalies (5.00%)\n",
      "ConvLSTM Anomalies: 76 anomalies (5.00%)\n",
      "One-Class SVM Anomalies: 314 anomalies (20.67%)\n",
      "Seasonal Decomposition Anomalies: 76 anomalies (5.00%)\n"
     ]
    }
   ],
   "source": [
    "# Model Comparison\n",
    "results = {\n",
    "    'LSTM MSE': mse_lstm,\n",
    "    'LSTM Anomaly Score': normalized_lstm_score,\n",
    "    'Autoencoder Anomalies': np.sum(anomalies_autoencoder),\n",
    "    'ConvLSTM Anomalies': np.sum(anomalies_convlstm),\n",
    "    'One-Class SVM Anomalies': np.sum(anomalies_svm),\n",
    "    'Seasonal Decomposition Anomalies': np.sum(anomalies_seasonal)\n",
    "}\n",
    "\n",
    "for model, score in results.items():\n",
    "    if 'MSE' in model:\n",
    "        print(f'{model}: {score:.6f}')\n",
    "    else:\n",
    "        percentage = (score / len(errors)) * 100\n",
    "        print(f'{model}: {score} anomalies ({percentage:.2f}%)')"
   ]
  }
 ],
 "metadata": {
  "kernelspec": {
   "display_name": "Python 3",
   "language": "python",
   "name": "python3"
  },
  "language_info": {
   "codemirror_mode": {
    "name": "ipython",
    "version": 3
   },
   "file_extension": ".py",
   "mimetype": "text/x-python",
   "name": "python",
   "nbconvert_exporter": "python",
   "pygments_lexer": "ipython3",
   "version": "3.11.3"
  }
 },
 "nbformat": 4,
 "nbformat_minor": 2
}
