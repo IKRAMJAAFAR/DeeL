{
  "cells": [
    {
      "cell_type": "code",
      "execution_count": 1,
      "metadata": {
        "id": "MYy4eWiCqSRs"
      },
      "outputs": [],
      "source": [
        "import pandas as pd\n",
        "import numpy as np\n",
        "from sklearn.model_selection import train_test_split\n",
        "from sklearn.preprocessing import StandardScaler\n"
      ]
    },
    {
      "cell_type": "code",
      "execution_count": 4,
      "metadata": {
        "colab": {
          "base_uri": "https://localhost:8080/"
        },
        "collapsed": true,
        "id": "eiHwIM4RqfVw",
        "outputId": "07ed6a6b-2a7b-4b86-a665-17be47d53783"
      },
      "outputs": [
        {
          "data": {
            "text/html": [
              "<div>\n",
              "<style scoped>\n",
              "    .dataframe tbody tr th:only-of-type {\n",
              "        vertical-align: middle;\n",
              "    }\n",
              "\n",
              "    .dataframe tbody tr th {\n",
              "        vertical-align: top;\n",
              "    }\n",
              "\n",
              "    .dataframe thead th {\n",
              "        text-align: right;\n",
              "    }\n",
              "</style>\n",
              "<table border=\"1\" class=\"dataframe\">\n",
              "  <thead>\n",
              "    <tr style=\"text-align: right;\">\n",
              "      <th></th>\n",
              "      <th>timestamp</th>\n",
              "      <th>value</th>\n",
              "      <th>month</th>\n",
              "      <th>day</th>\n",
              "      <th>hour</th>\n",
              "      <th>minute</th>\n",
              "      <th>day_of_week</th>\n",
              "      <th>isWeekend</th>\n",
              "      <th>isAnomaly</th>\n",
              "      <th>Holiday</th>\n",
              "      <th>prep</th>\n",
              "      <th>snow</th>\n",
              "      <th>snow_depth</th>\n",
              "      <th>min_temp</th>\n",
              "      <th>max_temp</th>\n",
              "      <th>isHoliday</th>\n",
              "      <th>TotalMinutes</th>\n",
              "      <th>season</th>\n",
              "    </tr>\n",
              "  </thead>\n",
              "  <tbody>\n",
              "    <tr>\n",
              "      <th>0</th>\n",
              "      <td>2014-07-01 00:00:00</td>\n",
              "      <td>10844.0</td>\n",
              "      <td>7</td>\n",
              "      <td>1</td>\n",
              "      <td>0</td>\n",
              "      <td>0</td>\n",
              "      <td>Tuesday</td>\n",
              "      <td>False</td>\n",
              "      <td>False</td>\n",
              "      <td>NaN</td>\n",
              "      <td>0.0</td>\n",
              "      <td>0.0</td>\n",
              "      <td>0.0</td>\n",
              "      <td>72.0</td>\n",
              "      <td>89.0</td>\n",
              "      <td>False</td>\n",
              "      <td>0</td>\n",
              "      <td>Summer</td>\n",
              "    </tr>\n",
              "    <tr>\n",
              "      <th>1</th>\n",
              "      <td>2014-07-01 00:30:00</td>\n",
              "      <td>8127.0</td>\n",
              "      <td>7</td>\n",
              "      <td>1</td>\n",
              "      <td>0</td>\n",
              "      <td>30</td>\n",
              "      <td>Tuesday</td>\n",
              "      <td>False</td>\n",
              "      <td>False</td>\n",
              "      <td>NaN</td>\n",
              "      <td>NaN</td>\n",
              "      <td>NaN</td>\n",
              "      <td>NaN</td>\n",
              "      <td>NaN</td>\n",
              "      <td>NaN</td>\n",
              "      <td>False</td>\n",
              "      <td>30</td>\n",
              "      <td>Summer</td>\n",
              "    </tr>\n",
              "    <tr>\n",
              "      <th>2</th>\n",
              "      <td>2014-07-01 01:00:00</td>\n",
              "      <td>6210.0</td>\n",
              "      <td>7</td>\n",
              "      <td>1</td>\n",
              "      <td>1</td>\n",
              "      <td>0</td>\n",
              "      <td>Tuesday</td>\n",
              "      <td>False</td>\n",
              "      <td>False</td>\n",
              "      <td>NaN</td>\n",
              "      <td>NaN</td>\n",
              "      <td>NaN</td>\n",
              "      <td>NaN</td>\n",
              "      <td>NaN</td>\n",
              "      <td>NaN</td>\n",
              "      <td>False</td>\n",
              "      <td>60</td>\n",
              "      <td>Summer</td>\n",
              "    </tr>\n",
              "    <tr>\n",
              "      <th>3</th>\n",
              "      <td>2014-07-01 01:30:00</td>\n",
              "      <td>4656.0</td>\n",
              "      <td>7</td>\n",
              "      <td>1</td>\n",
              "      <td>1</td>\n",
              "      <td>30</td>\n",
              "      <td>Tuesday</td>\n",
              "      <td>False</td>\n",
              "      <td>False</td>\n",
              "      <td>NaN</td>\n",
              "      <td>NaN</td>\n",
              "      <td>NaN</td>\n",
              "      <td>NaN</td>\n",
              "      <td>NaN</td>\n",
              "      <td>NaN</td>\n",
              "      <td>False</td>\n",
              "      <td>90</td>\n",
              "      <td>Summer</td>\n",
              "    </tr>\n",
              "    <tr>\n",
              "      <th>4</th>\n",
              "      <td>2014-07-01 02:00:00</td>\n",
              "      <td>3820.0</td>\n",
              "      <td>7</td>\n",
              "      <td>1</td>\n",
              "      <td>2</td>\n",
              "      <td>0</td>\n",
              "      <td>Tuesday</td>\n",
              "      <td>False</td>\n",
              "      <td>False</td>\n",
              "      <td>NaN</td>\n",
              "      <td>NaN</td>\n",
              "      <td>NaN</td>\n",
              "      <td>NaN</td>\n",
              "      <td>NaN</td>\n",
              "      <td>NaN</td>\n",
              "      <td>False</td>\n",
              "      <td>120</td>\n",
              "      <td>Summer</td>\n",
              "    </tr>\n",
              "  </tbody>\n",
              "</table>\n",
              "</div>"
            ],
            "text/plain": [
              "             timestamp    value  month  day  hour  minute day_of_week  \\\n",
              "0  2014-07-01 00:00:00  10844.0      7    1     0       0     Tuesday   \n",
              "1  2014-07-01 00:30:00   8127.0      7    1     0      30     Tuesday   \n",
              "2  2014-07-01 01:00:00   6210.0      7    1     1       0     Tuesday   \n",
              "3  2014-07-01 01:30:00   4656.0      7    1     1      30     Tuesday   \n",
              "4  2014-07-01 02:00:00   3820.0      7    1     2       0     Tuesday   \n",
              "\n",
              "   isWeekend  isAnomaly Holiday  prep  snow  snow_depth  min_temp  max_temp  \\\n",
              "0      False      False     NaN   0.0   0.0         0.0      72.0      89.0   \n",
              "1      False      False     NaN   NaN   NaN         NaN       NaN       NaN   \n",
              "2      False      False     NaN   NaN   NaN         NaN       NaN       NaN   \n",
              "3      False      False     NaN   NaN   NaN         NaN       NaN       NaN   \n",
              "4      False      False     NaN   NaN   NaN         NaN       NaN       NaN   \n",
              "\n",
              "   isHoliday  TotalMinutes  season  \n",
              "0      False             0  Summer  \n",
              "1      False            30  Summer  \n",
              "2      False            60  Summer  \n",
              "3      False            90  Summer  \n",
              "4      False           120  Summer  "
            ]
          },
          "execution_count": 4,
          "metadata": {},
          "output_type": "execute_result"
        }
      ],
      "source": [
        "data = pd.read_csv(\"Datasets Folder\\dataset_updated_preliminary.csv\")\n",
        "\n",
        "# Display the first few rows of the dataset\n",
        "data.head()\n"
      ]
    },
    {
      "cell_type": "code",
      "execution_count": 5,
      "metadata": {
        "colab": {
          "base_uri": "https://localhost:8080/"
        },
        "collapsed": true,
        "id": "_3uJpGN8rFFx",
        "outputId": "f48ca5ae-2e76-4a53-c80a-41b57718cf97"
      },
      "outputs": [
        {
          "name": "stderr",
          "output_type": "stream",
          "text": [
            "C:\\Users\\weare\\AppData\\Local\\Temp\\ipykernel_7320\\146202664.py:13: FutureWarning: DataFrame.interpolate with object dtype is deprecated and will raise in a future version. Call obj.infer_objects(copy=False) before interpolating instead.\n",
            "  data.interpolate(method='linear', inplace=True)\n"
          ]
        }
      ],
      "source": [
        "#Remove the 'isAnomaly' column\n",
        "data.drop(columns=['isAnomaly'], inplace=True)\n",
        "\n",
        "#Filter out the data for only September and above (Summer not included)\n",
        "#data = data[data['Season'] != 'Summer']\n",
        "\n",
        "# Fill missing values using forward filling\n",
        "data.ffill(inplace=True)\n",
        "\n",
        "\n",
        "# Fill any remaining missing values using linear interpolation\n",
        "data = data.infer_objects()  # Convert object dtypes to appropriate types\n",
        "data.interpolate(method='linear', inplace=True)\n",
        "\n",
        "\n",
        "# Fill missing value in Holiday column\n",
        "data['Holiday'] = data['Holiday'].fillna(\"No Public Holiday\")"
      ]
    },
    {
      "cell_type": "code",
      "execution_count": 72,
      "metadata": {
        "collapsed": true,
        "id": "FIVWGIQn-tdV"
      },
      "outputs": [],
      "source": [
        "\n",
        "# Create cyclic features for hour and day of the week\n",
        "data['hour_sin'] = np.sin(2 * np.pi * data['hour'] / 24)\n",
        "data['hour_cos'] = np.cos(2 * np.pi * data['hour'] / 24)\n",
        "data['day_of_week_sin'] = np.sin(2 * np.pi * data['day_of_week'].apply(lambda x: ['Monday', 'Tuesday', 'Wednesday', 'Thursday', 'Friday', 'Saturday', 'Sunday'].index(x)) / 7)\n",
        "data['day_of_week_cos'] = np.cos(2 * np.pi * data['day_of_week'].apply(lambda x: ['Monday', 'Tuesday', 'Wednesday', 'Thursday', 'Friday', 'Saturday', 'Sunday'].index(x)) / 7)\n",
        "\n",
        "# Create lag features (e.g., lag of value for the last 1, 2, and 3 periods)\n",
        "for lag in range(1, 4):\n",
        "    data[f'value_lag_{lag}'] = data['value'].shift(lag)\n",
        "\n",
        "# Combine hour and minute into a single feature (Total Minutes)\n",
        "data['TotalMinutes'] = data['hour'] * 60 + data['minute']\n",
        "\n",
        "# Fill in the missing value in value_lag columns with 0\n",
        "data['value_lag_1'] = data['value_lag_1'].fillna(0)\n",
        "data['value_lag_2'] = data['value_lag_2'].fillna(0)\n",
        "data['value_lag_3'] = data['value_lag_3'].fillna(0)\n"
      ]
    },
    {
      "cell_type": "code",
      "execution_count": 73,
      "metadata": {
        "id": "QfHHehUkB1uQ"
      },
      "outputs": [],
      "source": [
        "# Select features for modeling (excluding original timestamp and non-numeric columns)\n",
        "features = ['value','month','day','hour','minute', 'snow', 'snow_depth', 'min_temp', 'max_temp',\n",
        "            'hour_sin', 'hour_cos',\n",
        "            'day_of_week_sin', 'day_of_week_cos',\n",
        "            'TotalMinutes']\n",
        "\n",
        "X = data[features]\n",
        "y = data['value']  # Assuming we want to predict the value.\n"
      ]
    },
    {
      "cell_type": "code",
      "execution_count": 74,
      "metadata": {
        "collapsed": true,
        "id": "2lQJQItHth08"
      },
      "outputs": [],
      "source": [
        "# from google.colab import drive\n",
        "# drive.mount('/content/drive')"
      ]
    },
    {
      "cell_type": "code",
      "execution_count": 75,
      "metadata": {
        "id": "b5CJpnVHAfVC"
      },
      "outputs": [],
      "source": [
        "# Define a function for time-based splitting\n",
        "def time_based_split(data, train_size=0.7, val_size=0.15):\n",
        "    total_size = len(data)\n",
        "    train_end = int(total_size * train_size)\n",
        "    val_end = train_end + int(total_size * val_size)\n",
        "\n",
        "    X_train = X.iloc[:train_end]\n",
        "    y_train = y.iloc[:train_end]\n",
        "\n",
        "    X_val = X.iloc[train_end:val_end]\n",
        "    y_val = y.iloc[train_end:val_end]\n",
        "\n",
        "    X_test = X.iloc[val_end:]\n",
        "    y_test = y.iloc[val_end:]\n",
        "\n",
        "    return X_train, X_val, X_test, y_train, y_val, y_test\n",
        "\n",
        "X_train, X_val, X_test, y_train, y_val, y_test = time_based_split(data)\n"
      ]
    },
    {
      "cell_type": "code",
      "execution_count": 76,
      "metadata": {
        "id": "8I771ndKAi2M"
      },
      "outputs": [],
      "source": [
        "from sklearn.preprocessing import StandardScaler\n",
        "\n",
        "scaler = StandardScaler()\n",
        "\n",
        "# Fit on training data only\n",
        "X_train_scaled = scaler.fit_transform(X_train)\n",
        "\n",
        "# Transform validation and test sets\n",
        "X_val_scaled = scaler.transform(X_val)\n",
        "X_test_scaled = scaler.transform(X_test)\n",
        "\n",
        "# Convert scaled arrays back to DataFrames for better visualization\n",
        "X_train_scaled_df = pd.DataFrame(X_train_scaled, columns=X_train.columns)\n",
        "X_val_scaled_df = pd.DataFrame(X_val_scaled, columns=X_val.columns)\n",
        "X_test_scaled_df = pd.DataFrame(X_test_scaled, columns=X_test.columns)\n",
        "\n"
      ]
    },
    {
      "cell_type": "code",
      "execution_count": 77,
      "metadata": {
        "colab": {
          "base_uri": "https://localhost:8080/"
        },
        "collapsed": true,
        "id": "3CxqpHLVrNGx",
        "outputId": "ab4faac2-5414-4146-e92a-0340f1c082df"
      },
      "outputs": [
        {
          "name": "stdout",
          "output_type": "stream",
          "text": [
            "             timestamp    value  month  day  hour  minute day_of_week  \\\n",
            "0  2014-07-01 00:00:00  10844.0      7    1     0       0     Tuesday   \n",
            "1  2014-07-01 00:30:00   8127.0      7    1     0      30     Tuesday   \n",
            "2  2014-07-01 01:00:00   6210.0      7    1     1       0     Tuesday   \n",
            "3  2014-07-01 01:30:00   4656.0      7    1     1      30     Tuesday   \n",
            "4  2014-07-01 02:00:00   3820.0      7    1     2       0     Tuesday   \n",
            "\n",
            "   isWeekend            Holiday  prep  ...  isHoliday  TotalMinutes  Season  \\\n",
            "0      False  No Public Holiday   0.0  ...      False             0  Summer   \n",
            "1      False  No Public Holiday   0.0  ...      False            30  Summer   \n",
            "2      False  No Public Holiday   0.0  ...      False            60  Summer   \n",
            "3      False  No Public Holiday   0.0  ...      False            90  Summer   \n",
            "4      False  No Public Holiday   0.0  ...      False           120  Summer   \n",
            "\n",
            "   hour_sin  hour_cos  day_of_week_sin day_of_week_cos  value_lag_1  \\\n",
            "0  0.000000  1.000000         0.781831         0.62349          0.0   \n",
            "1  0.000000  1.000000         0.781831         0.62349      10844.0   \n",
            "2  0.258819  0.965926         0.781831         0.62349       8127.0   \n",
            "3  0.258819  0.965926         0.781831         0.62349       6210.0   \n",
            "4  0.500000  0.866025         0.781831         0.62349       4656.0   \n",
            "\n",
            "   value_lag_2  value_lag_3  \n",
            "0          0.0          0.0  \n",
            "1          0.0          0.0  \n",
            "2      10844.0          0.0  \n",
            "3       8127.0      10844.0  \n",
            "4       6210.0       8127.0  \n",
            "\n",
            "[5 rows x 24 columns]\n"
          ]
        }
      ],
      "source": [
        "\n",
        "# copy and paste the scaled data\n",
        "# data = pd.concat([X_train_scaled_df], axis=1)\n",
        "\n",
        "\n",
        "\n",
        "# Save the prepared dataset\n",
        "data.to_csv(\"/content/drive/MyDrive/Dataset/Preprocessed_preliminary.csv\")\n",
        "\n",
        "data1 = pd.read_csv(\"/content/drive/MyDrive/Dataset/Preprocessed_preliminary.csv\")\n",
        "\n",
        "# Drop unnecessary columns\n",
        "if 'Unnamed: 0' in data1.columns:\n",
        "    data1 = data1.drop(columns=['Unnamed: 0'])\n",
        "print(data1.head())\n",
        "\n",
        "#print()\n",
        "#print(\"Scaled Training Data:\")\n",
        "#print(X_train_scaled_df.head())\n",
        "\n"
      ]
    }
  ],
  "metadata": {
    "colab": {
      "provenance": []
    },
    "kernelspec": {
      "display_name": "Python 3",
      "name": "python3"
    },
    "language_info": {
      "codemirror_mode": {
        "name": "ipython",
        "version": 3
      },
      "file_extension": ".py",
      "mimetype": "text/x-python",
      "name": "python",
      "nbconvert_exporter": "python",
      "pygments_lexer": "ipython3",
      "version": "3.11.9"
    }
  },
  "nbformat": 4,
  "nbformat_minor": 0
}
