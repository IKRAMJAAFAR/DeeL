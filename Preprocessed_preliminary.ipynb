{
  "nbformat": 4,
  "nbformat_minor": 0,
  "metadata": {
    "colab": {
      "provenance": []
    },
    "kernelspec": {
      "name": "python3",
      "display_name": "Python 3"
    },
    "language_info": {
      "name": "python"
    }
  },
  "cells": [
    {
      "cell_type": "code",
      "execution_count": 38,
      "metadata": {
        "id": "MYy4eWiCqSRs"
      },
      "outputs": [],
      "source": [
        "import pandas as pd\n",
        "import numpy as np\n",
        "from sklearn.model_selection import train_test_split\n",
        "from sklearn.preprocessing import StandardScaler\n"
      ]
    },
    {
      "cell_type": "code",
      "source": [
        "# Load the dataset\n",
        "path=\"/content/drive/MyDrive/Dataset/dataset_updated_preliminary.csv\"\n",
        "data = pd.read_csv(path)\n",
        "\n",
        "# Display the first few rows of the dataset\n",
        "print(data.head())\n"
      ],
      "metadata": {
        "colab": {
          "base_uri": "https://localhost:8080/"
        },
        "id": "eiHwIM4RqfVw",
        "outputId": "5c6dba86-160a-44d8-9a58-496038305a87",
        "collapsed": true
      },
      "execution_count": 39,
      "outputs": [
        {
          "output_type": "stream",
          "name": "stdout",
          "text": [
            "             timestamp    value  month  day  hour  minute day_of_week  \\\n",
            "0  2014-07-01 00:00:00  10844.0      7    1     0       0     Tuesday   \n",
            "1  2014-07-01 00:30:00   8127.0      7    1     0      30     Tuesday   \n",
            "2  2014-07-01 01:00:00   6210.0      7    1     1       0     Tuesday   \n",
            "3  2014-07-01 01:30:00   4656.0      7    1     1      30     Tuesday   \n",
            "4  2014-07-01 02:00:00   3820.0      7    1     2       0     Tuesday   \n",
            "\n",
            "   isWeekend  isAnomaly Holiday  prep  snow  snow_depth  min_temp  max_temp  \\\n",
            "0      False      False     NaN   0.0   0.0         0.0      72.0      89.0   \n",
            "1      False      False     NaN   NaN   NaN         NaN       NaN       NaN   \n",
            "2      False      False     NaN   NaN   NaN         NaN       NaN       NaN   \n",
            "3      False      False     NaN   NaN   NaN         NaN       NaN       NaN   \n",
            "4      False      False     NaN   NaN   NaN         NaN       NaN       NaN   \n",
            "\n",
            "   isHoliday  TotalMinutes  Season  \n",
            "0      False             0  Summer  \n",
            "1      False            30  Summer  \n",
            "2      False            60  Summer  \n",
            "3      False            90  Summer  \n",
            "4      False           120  Summer  \n"
          ]
        }
      ]
    },
    {
      "cell_type": "code",
      "source": [
        "#Remove the 'isAnomaly' column\n",
        "data.drop(columns=['isAnomaly'], inplace=True)\n",
        "\n",
        "#Filter out the data for only September and above (Summer not included)\n",
        "#data = data[data['Season'] != 'Summer']\n",
        "\n",
        "# Fill missing values using forward filling\n",
        "data.fillna(method='ffill', inplace=True)\n",
        "\n",
        "# Fill any remaining missing values using linear interpolation\n",
        "data.interpolate(method='linear', inplace=True)\n",
        "\n",
        "# Fill missing value in Holiday column\n",
        "data['Holiday'].fillna(\"No Public Holiday\", inplace=True)\n",
        "\n",
        "\n",
        "\n",
        "\n"
      ],
      "metadata": {
        "colab": {
          "base_uri": "https://localhost:8080/"
        },
        "id": "_3uJpGN8rFFx",
        "outputId": "62f7843d-4853-45da-e8e6-29e3fa033ab7",
        "collapsed": true
      },
      "execution_count": 40,
      "outputs": [
        {
          "output_type": "stream",
          "name": "stderr",
          "text": [
            "<ipython-input-40-d459d2b6a7e7>:8: FutureWarning: DataFrame.fillna with 'method' is deprecated and will raise in a future version. Use obj.ffill() or obj.bfill() instead.\n",
            "  data.fillna(method='ffill', inplace=True)\n",
            "<ipython-input-40-d459d2b6a7e7>:11: FutureWarning: DataFrame.interpolate with object dtype is deprecated and will raise in a future version. Call obj.infer_objects(copy=False) before interpolating instead.\n",
            "  data.interpolate(method='linear', inplace=True)\n",
            "<ipython-input-40-d459d2b6a7e7>:14: FutureWarning: A value is trying to be set on a copy of a DataFrame or Series through chained assignment using an inplace method.\n",
            "The behavior will change in pandas 3.0. This inplace method will never work because the intermediate object on which we are setting values always behaves as a copy.\n",
            "\n",
            "For example, when doing 'df[col].method(value, inplace=True)', try using 'df.method({col: value}, inplace=True)' or df[col] = df[col].method(value) instead, to perform the operation inplace on the original object.\n",
            "\n",
            "\n",
            "  data['Holiday'].fillna(\"No Public Holiday\", inplace=True)\n"
          ]
        }
      ]
    },
    {
      "cell_type": "code",
      "source": [
        "\n",
        "# Create cyclic features for hour and day of the week\n",
        "data['hour_sin'] = np.sin(2 * np.pi * data['hour'] / 24)\n",
        "data['hour_cos'] = np.cos(2 * np.pi * data['hour'] / 24)\n",
        "data['day_of_week_sin'] = np.sin(2 * np.pi * data['day_of_week'].apply(lambda x: ['Monday', 'Tuesday', 'Wednesday', 'Thursday', 'Friday', 'Saturday', 'Sunday'].index(x)) / 7)\n",
        "data['day_of_week_cos'] = np.cos(2 * np.pi * data['day_of_week'].apply(lambda x: ['Monday', 'Tuesday', 'Wednesday', 'Thursday', 'Friday', 'Saturday', 'Sunday'].index(x)) / 7)\n",
        "\n",
        "# Create lag features (e.g., lag of value for the last 1, 2, and 3 periods)\n",
        "for lag in range(1, 4):\n",
        "    data[f'value_lag_{lag}'] = data['value'].shift(lag)\n",
        "\n",
        "# Combine hour and minute into a single feature (Total Minutes)\n",
        "data['TotalMinutes'] = data['hour'] * 60 + data['minute']\n",
        "\n",
        "# Fill in the missing value in value_lag columns with 0\n",
        "data['value_lag_1'].fillna(0, inplace=True)\n",
        "data['value_lag_2'].fillna(0, inplace=True)\n",
        "data['value_lag_3'].fillna(0, inplace=True)\n"
      ],
      "metadata": {
        "colab": {
          "base_uri": "https://localhost:8080/"
        },
        "collapsed": true,
        "id": "FIVWGIQn-tdV",
        "outputId": "7fab7179-5a50-41d9-a258-c2f5a0e3bec5"
      },
      "execution_count": 41,
      "outputs": [
        {
          "output_type": "stream",
          "name": "stderr",
          "text": [
            "<ipython-input-41-609295d9fa4c>:15: FutureWarning: A value is trying to be set on a copy of a DataFrame or Series through chained assignment using an inplace method.\n",
            "The behavior will change in pandas 3.0. This inplace method will never work because the intermediate object on which we are setting values always behaves as a copy.\n",
            "\n",
            "For example, when doing 'df[col].method(value, inplace=True)', try using 'df.method({col: value}, inplace=True)' or df[col] = df[col].method(value) instead, to perform the operation inplace on the original object.\n",
            "\n",
            "\n",
            "  data['value_lag_1'].fillna(0, inplace=True)\n",
            "<ipython-input-41-609295d9fa4c>:16: FutureWarning: A value is trying to be set on a copy of a DataFrame or Series through chained assignment using an inplace method.\n",
            "The behavior will change in pandas 3.0. This inplace method will never work because the intermediate object on which we are setting values always behaves as a copy.\n",
            "\n",
            "For example, when doing 'df[col].method(value, inplace=True)', try using 'df.method({col: value}, inplace=True)' or df[col] = df[col].method(value) instead, to perform the operation inplace on the original object.\n",
            "\n",
            "\n",
            "  data['value_lag_2'].fillna(0, inplace=True)\n",
            "<ipython-input-41-609295d9fa4c>:17: FutureWarning: A value is trying to be set on a copy of a DataFrame or Series through chained assignment using an inplace method.\n",
            "The behavior will change in pandas 3.0. This inplace method will never work because the intermediate object on which we are setting values always behaves as a copy.\n",
            "\n",
            "For example, when doing 'df[col].method(value, inplace=True)', try using 'df.method({col: value}, inplace=True)' or df[col] = df[col].method(value) instead, to perform the operation inplace on the original object.\n",
            "\n",
            "\n",
            "  data['value_lag_3'].fillna(0, inplace=True)\n"
          ]
        }
      ]
    },
    {
      "cell_type": "code",
      "source": [
        "# Select features for modeling (excluding original timestamp and non-numeric columns)\n",
        "features = ['value','month','day','hour','minute', 'snow', 'snow_depth', 'min_temp', 'max_temp',\n",
        "            'hour_sin', 'hour_cos',\n",
        "            'day_of_week_sin', 'day_of_week_cos',\n",
        "            'TotalMinutes']\n",
        "\n",
        "X = data[features]\n",
        "y = data['value']  # Assuming we want to predict the value.\n"
      ],
      "metadata": {
        "id": "QfHHehUkB1uQ"
      },
      "execution_count": 42,
      "outputs": []
    },
    {
      "cell_type": "code",
      "source": [
        "#from google.colab import drive\n",
        "#drive.mount('/content/drive')"
      ],
      "metadata": {
        "id": "2lQJQItHth08",
        "collapsed": true
      },
      "execution_count": 43,
      "outputs": []
    },
    {
      "cell_type": "code",
      "source": [
        "# Define a function for time-based splitting\n",
        "def time_based_split(data, train_size=0.7, val_size=0.15):\n",
        "    total_size = len(data)\n",
        "    train_end = int(total_size * train_size)\n",
        "    val_end = train_end + int(total_size * val_size)\n",
        "\n",
        "    X_train = X.iloc[:train_end]\n",
        "    y_train = y.iloc[:train_end]\n",
        "\n",
        "    X_val = X.iloc[train_end:val_end]\n",
        "    y_val = y.iloc[train_end:val_end]\n",
        "\n",
        "    X_test = X.iloc[val_end:]\n",
        "    y_test = y.iloc[val_end:]\n",
        "\n",
        "    return X_train, X_val, X_test, y_train, y_val, y_test\n",
        "\n",
        "X_train, X_val, X_test, y_train, y_val, y_test = time_based_split(data)\n"
      ],
      "metadata": {
        "id": "b5CJpnVHAfVC"
      },
      "execution_count": 44,
      "outputs": []
    },
    {
      "cell_type": "code",
      "source": [
        "from sklearn.preprocessing import StandardScaler\n",
        "\n",
        "scaler = StandardScaler()\n",
        "\n",
        "# Fit on training data only\n",
        "X_train_scaled = scaler.fit_transform(X_train)\n",
        "\n",
        "# Transform validation and test sets\n",
        "X_val_scaled = scaler.transform(X_val)\n",
        "X_test_scaled = scaler.transform(X_test)\n",
        "\n",
        "# Convert scaled arrays back to DataFrames for better visualization\n",
        "X_train_scaled_df = pd.DataFrame(X_train_scaled, columns=X_train.columns)\n",
        "X_val_scaled_df = pd.DataFrame(X_val_scaled, columns=X_val.columns)\n",
        "X_test_scaled_df = pd.DataFrame(X_test_scaled, columns=X_test.columns)\n",
        "\n"
      ],
      "metadata": {
        "id": "8I771ndKAi2M"
      },
      "execution_count": 45,
      "outputs": []
    },
    {
      "cell_type": "code",
      "source": [
        "\n",
        "\n",
        "#data = pd.concat([X_train_scaled_df], axis=1)\n",
        "\n",
        "\n",
        "\n",
        "# Save the prepared dataset\n",
        "data.to_csv(\"/content/drive/MyDrive/Dataset/Preprocessed_preliminary.csv\")\n",
        "\n",
        "data1 = pd.read_csv(\"/content/drive/MyDrive/Dataset/Preprocessed_preliminary.csv\")\n",
        "\n",
        "# Drop unnecessary columns\n",
        "if 'Unnamed: 0' in data1.columns:\n",
        "    data1 = data1.drop(columns=['Unnamed: 0'])\n",
        "print(data1.head())\n",
        "\n",
        "#print()\n",
        "#print(\"Scaled Training Data:\")\n",
        "#print(X_train_scaled_df.head())\n",
        "\n"
      ],
      "metadata": {
        "colab": {
          "base_uri": "https://localhost:8080/"
        },
        "id": "3CxqpHLVrNGx",
        "outputId": "26040a2d-741d-4ba0-83aa-3aa67e0d3cfd",
        "collapsed": true
      },
      "execution_count": 46,
      "outputs": [
        {
          "output_type": "stream",
          "name": "stdout",
          "text": [
            "             timestamp    value  month  day  hour  minute day_of_week  \\\n",
            "0  2014-07-01 00:00:00  10844.0      7    1     0       0     Tuesday   \n",
            "1  2014-07-01 00:30:00   8127.0      7    1     0      30     Tuesday   \n",
            "2  2014-07-01 01:00:00   6210.0      7    1     1       0     Tuesday   \n",
            "3  2014-07-01 01:30:00   4656.0      7    1     1      30     Tuesday   \n",
            "4  2014-07-01 02:00:00   3820.0      7    1     2       0     Tuesday   \n",
            "\n",
            "   isWeekend            Holiday  prep  ...  isHoliday  TotalMinutes  Season  \\\n",
            "0      False  No Public Holiday   0.0  ...      False             0  Summer   \n",
            "1      False  No Public Holiday   0.0  ...      False            30  Summer   \n",
            "2      False  No Public Holiday   0.0  ...      False            60  Summer   \n",
            "3      False  No Public Holiday   0.0  ...      False            90  Summer   \n",
            "4      False  No Public Holiday   0.0  ...      False           120  Summer   \n",
            "\n",
            "   hour_sin  hour_cos  day_of_week_sin day_of_week_cos  value_lag_1  \\\n",
            "0  0.000000  1.000000         0.781831         0.62349          0.0   \n",
            "1  0.000000  1.000000         0.781831         0.62349      10844.0   \n",
            "2  0.258819  0.965926         0.781831         0.62349       8127.0   \n",
            "3  0.258819  0.965926         0.781831         0.62349       6210.0   \n",
            "4  0.500000  0.866025         0.781831         0.62349       4656.0   \n",
            "\n",
            "   value_lag_2  value_lag_3  \n",
            "0          0.0          0.0  \n",
            "1          0.0          0.0  \n",
            "2      10844.0          0.0  \n",
            "3       8127.0      10844.0  \n",
            "4       6210.0       8127.0  \n",
            "\n",
            "[5 rows x 24 columns]\n"
          ]
        }
      ]
    }
  ]
}